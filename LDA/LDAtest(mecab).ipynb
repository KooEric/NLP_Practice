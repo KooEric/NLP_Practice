{
 "cells": [
  {
   "cell_type": "code",
   "execution_count": 1,
   "outputs": [],
   "source": [
    "import numpy as np\n",
    "import pandas as pd\n",
    "import re\n",
    "from konlpy.tag import Mecab\n",
    "import pymongo"
   ],
   "metadata": {
    "collapsed": false,
    "pycharm": {
     "name": "#%%\n"
    }
   }
  },
  {
   "cell_type": "code",
   "execution_count": 2,
   "outputs": [],
   "source": [
    "host = '{SERVER IP}'\n",
    "port = 27010"
   ],
   "metadata": {
    "collapsed": false,
    "pycharm": {
     "name": "#%%\n"
    }
   }
  },
  {
   "cell_type": "code",
   "execution_count": 3,
   "outputs": [],
   "source": [
    "conn = pymongo.MongoClient(host=host, port=port)\n",
    "db = conn.get_database('news')  ## db name\n",
    "collection = db.get_collection('marine')"
   ],
   "metadata": {
    "collapsed": false,
    "pycharm": {
     "name": "#%%\n"
    }
   }
  },
  {
   "cell_type": "code",
   "execution_count": 4,
   "outputs": [
    {
     "name": "stdout",
     "output_type": "stream",
     "text": [
      "MongoDB Connected.\n"
     ]
    }
   ],
   "source": [
    "news_marine = list(\n",
    "    collection.find({'service_type': 'NEWS', '$text': {'$search': '해운 항만 조선 해양 해운업 조선업 해양수산 -주식 -호텔'}}, {'_id': 0, 'content': 1}))\n",
    "news_content = [news['content'] for news in news_marine]\n",
    "news_data = pd.DataFrame(news_content)\n",
    "\n",
    "print('MongoDB Connected.')"
   ],
   "metadata": {
    "collapsed": false,
    "pycharm": {
     "name": "#%%\n"
    }
   }
  },
  {
   "cell_type": "code",
   "execution_count": 5,
   "outputs": [
    {
     "name": "stdout",
     "output_type": "stream",
     "text": [
      "MongoDB Closed.\n"
     ]
    }
   ],
   "source": [
    "conn.close()\n",
    "print('MongoDB Closed.')"
   ],
   "metadata": {
    "collapsed": false,
    "pycharm": {
     "name": "#%%\n"
    }
   }
  },
  {
   "cell_type": "code",
   "execution_count": 6,
   "outputs": [
    {
     "data": {
      "text/plain": "164371"
     },
     "execution_count": 6,
     "metadata": {},
     "output_type": "execute_result"
    }
   ],
   "source": [
    "news_data.head(10)\n",
    "len(news_data)"
   ],
   "metadata": {
    "collapsed": false,
    "pycharm": {
     "name": "#%%\n"
    }
   }
  },
  {
   "cell_type": "code",
   "execution_count": 7,
   "outputs": [
    {
     "data": {
      "text/plain": "0     증권\\n기사\\n입력 : 2020-11-23 17:51:07\\n▲ 23일 조선 테마가...\n1     [서울=뉴시스]웨스틴 조선 '조선 델리'의 '로맨틱 럭셔리'\\n3월14일은 '화이트...\n2     LNG운반선.©대우조선해양\\n국내 조선 빅3인 대우조선해양, 현대중공업, 삼성중공업...\n3     LNG운반선.©대우조선해양\\n국내 조선 빅3인 대우조선해양, 현대중공업, 삼성중공업...\n4     (서울=연합뉴스) 김보경 기자 = 해양수산부와 국립해양박물관은 16일부터 내년 2월...\n5     해군사관학교 해양연구소 송기중 연구위원.\\n[내외일보=경남] 김성삼 기자 = 해군사...\n6     [헤럴드DB]\\n[헤럴드경제=김대우 기자]조선 업황 회복 분위기 속에 국내 주요 조...\n7     [헤럴드DB]\\n[헤럴드경제=김대우 기자]조선 업황 회복 분위기 속에 국내 주요 조...\n8     조선호텔, 내달 25일 해운대에 '그랜드 조선 부산' 개관\\n(서울=연합뉴스) 박상...\n9     '세계 1위' 조선의 역사 엿보다…해수부, 조선시대 선박 전시회\\n국립해양박물관서 ...\n10    송고시간 | 2019-09-23 10:00\\n조선업[연합뉴스TV 제공]\\n(세종=연...\n11    한국기업평판연구소는 조선 상장기업 브랜드평판 조사결과, 한국조선해양이 1위에 올랐다...\n12    해수부·해양박물관, '조선(造船)의 나라, 조선(朝鮮)' 전시회 개최\\n등록 202...\n13    ▲김성갑 경상남도의회 경제환경위원회 위원장\\n중국에서 시작하여 아시아 지역은 물론 ...\n14    ◀ＡＮＣ▶\\n조선 경기가 회복세를 보이고 있지만\\n수년간 이어진 인력 감축의 여파로...\n15    9일 ‘조선해양의 날’ 맞아 경남 거제서 K-조선 비전 선언\\n문재인 대통령이 9일...\n16    문 대통령, 세계 1등 'K-조선' 현장 방문…조선강국 재도약 전략 논의\\n입력: ...\n17    [여성소비자신문 이지은 기자]조선 상장기업 브랜드평판 2021년 11월 빅데이터 분...\n18    은성수 \"조선 기자재 업체 적극 지원…경쟁력 제고 돕겠다\"\\n금융위원장 부산 방문…...\n19    은성수 금융위원장 (사진=금융위원회)\\n[서울파이낸스 박시형 기자] 은성수 금융위원...\n20    [조선3사 부활 뱃고동]③‘K-조선’ 재도약, 정부도 돕는다\\n정지수 기자 승인 2...\n21    [프라임경제] 현대중공업그룹이 31일 KDB산업은행과의 '조선 통합법인 설립 기본합...\n22    부산·경남 업체와 현장간담회\\n은성수 금융위원장(사진)은 지난 14일 “조선업 경쟁...\n23    한국기업평판연구소, 조선 상장기업 브랜드평판 빅데이터 분석 결과\\n조선 상장기업 1...\n24    - ‘제42차 경제전략회의’ 개최...‘스마트 조선 클러스터 구축’ 추진\\n[일요서...\n25    은성수 금융위원장 [연합뉴스 자료사진]\\n(서울=연합뉴스) 성서호 기자 = 은성수 ...\n26    스마트 조선 클러스터 구축을 추진한다\\n[창원=환경일보] 정몽호 기자 = 창원시(시...\n27    [비욘드포스트 이순곤 기자] 021년 11월 조선 상장기업 브랜드평판 2빅데이터 분...\n28    - 온라인 라이브 커머스 34만뷰, 브랜드명 해시태그 2만건 MZ세대 인기반영\\n-...\n29    <ⓒ게티이미지뱅크>\\n공정거래위원회가 조만간 조선 3사의 불공정하도급 혐의 관련 제...\nName: news, dtype: object"
     },
     "execution_count": 7,
     "metadata": {},
     "output_type": "execute_result"
    }
   ],
   "source": [
    "news_train = news_data.rename(columns={0: 'news'})\n",
    "news_train['news'][:30]"
   ],
   "metadata": {
    "collapsed": false,
    "pycharm": {
     "name": "#%%\n"
    }
   }
  },
  {
   "cell_type": "code",
   "execution_count": 8,
   "outputs": [
    {
     "data": {
      "text/plain": "0         False\n1         False\n2         False\n3          True\n4         False\n          ...  \n164366     True\n164367     True\n164368    False\n164369    False\n164370    False\nLength: 164371, dtype: bool"
     },
     "execution_count": 8,
     "metadata": {},
     "output_type": "execute_result"
    }
   ],
   "source": [
    "dup = news_train.duplicated(['news']) # 여기서 dup의 데이터타입은 Series\n",
    "dup\n"
   ],
   "metadata": {
    "collapsed": false,
    "pycharm": {
     "name": "#%%\n"
    }
   }
  },
  {
   "cell_type": "code",
   "execution_count": 9,
   "outputs": [],
   "source": [
    "news_train.news = news_train.news.astype(str)"
   ],
   "metadata": {
    "collapsed": false,
    "pycharm": {
     "name": "#%%\n"
    }
   }
  },
  {
   "cell_type": "code",
   "execution_count": 10,
   "outputs": [],
   "source": [
    "news_train = news_train.drop_duplicates(['news'])"
   ],
   "metadata": {
    "collapsed": false,
    "pycharm": {
     "name": "#%%\n"
    }
   }
  },
  {
   "cell_type": "code",
   "execution_count": 11,
   "outputs": [
    {
     "data": {
      "text/plain": "                                                     news\n0       증권\\n기사\\n입력 : 2020-11-23 17:51:07\\n▲ 23일 조선 테마가...\n1       [서울=뉴시스]웨스틴 조선 '조선 델리'의 '로맨틱 럭셔리'\\n3월14일은 '화이트...\n2       LNG운반선.©대우조선해양\\n국내 조선 빅3인 대우조선해양, 현대중공업, 삼성중공업...\n4       (서울=연합뉴스) 김보경 기자 = 해양수산부와 국립해양박물관은 16일부터 내년 2월...\n5       해군사관학교 해양연구소 송기중 연구위원.\\n[내외일보=경남] 김성삼 기자 = 해군사...\n...                                                   ...\n164364  국제 정세 속 한국은? 마입성 쌍로지상(馬入城 雙路之像)!…亥는 쌍해종환(雙亥終還)...\n164365  1975년 미국 코닥사의 엔지니어 스티븐 세슨은 세계 최초로 디지털카메라를 발명했습...\n164368  1975년 미국 코닥사의 엔지니어 스티븐 세슨은 세계 최초로 디지털카메라를 발명했습...\n164369  지금부터 제51차 비상경제 중대본회의 정례브리핑을 시작하겠습니다.\\n오늘 회의는 2...\n164370  이주의 주식시장은? 반도체·코로나 백신 이슈 지속... 정치 테마주 순환적인 강세 ...\n\n[144594 rows x 1 columns]",
      "text/html": "<div>\n<style scoped>\n    .dataframe tbody tr th:only-of-type {\n        vertical-align: middle;\n    }\n\n    .dataframe tbody tr th {\n        vertical-align: top;\n    }\n\n    .dataframe thead th {\n        text-align: right;\n    }\n</style>\n<table border=\"1\" class=\"dataframe\">\n  <thead>\n    <tr style=\"text-align: right;\">\n      <th></th>\n      <th>news</th>\n    </tr>\n  </thead>\n  <tbody>\n    <tr>\n      <th>0</th>\n      <td>증권\\n기사\\n입력 : 2020-11-23 17:51:07\\n▲ 23일 조선 테마가...</td>\n    </tr>\n    <tr>\n      <th>1</th>\n      <td>[서울=뉴시스]웨스틴 조선 '조선 델리'의 '로맨틱 럭셔리'\\n3월14일은 '화이트...</td>\n    </tr>\n    <tr>\n      <th>2</th>\n      <td>LNG운반선.©대우조선해양\\n국내 조선 빅3인 대우조선해양, 현대중공업, 삼성중공업...</td>\n    </tr>\n    <tr>\n      <th>4</th>\n      <td>(서울=연합뉴스) 김보경 기자 = 해양수산부와 국립해양박물관은 16일부터 내년 2월...</td>\n    </tr>\n    <tr>\n      <th>5</th>\n      <td>해군사관학교 해양연구소 송기중 연구위원.\\n[내외일보=경남] 김성삼 기자 = 해군사...</td>\n    </tr>\n    <tr>\n      <th>...</th>\n      <td>...</td>\n    </tr>\n    <tr>\n      <th>164364</th>\n      <td>국제 정세 속 한국은? 마입성 쌍로지상(馬入城 雙路之像)!…亥는 쌍해종환(雙亥終還)...</td>\n    </tr>\n    <tr>\n      <th>164365</th>\n      <td>1975년 미국 코닥사의 엔지니어 스티븐 세슨은 세계 최초로 디지털카메라를 발명했습...</td>\n    </tr>\n    <tr>\n      <th>164368</th>\n      <td>1975년 미국 코닥사의 엔지니어 스티븐 세슨은 세계 최초로 디지털카메라를 발명했습...</td>\n    </tr>\n    <tr>\n      <th>164369</th>\n      <td>지금부터 제51차 비상경제 중대본회의 정례브리핑을 시작하겠습니다.\\n오늘 회의는 2...</td>\n    </tr>\n    <tr>\n      <th>164370</th>\n      <td>이주의 주식시장은? 반도체·코로나 백신 이슈 지속... 정치 테마주 순환적인 강세 ...</td>\n    </tr>\n  </tbody>\n</table>\n<p>144594 rows × 1 columns</p>\n</div>"
     },
     "execution_count": 11,
     "metadata": {},
     "output_type": "execute_result"
    }
   ],
   "source": [
    "news_train"
   ],
   "metadata": {
    "collapsed": false,
    "pycharm": {
     "name": "#%%\n"
    }
   }
  },
  {
   "cell_type": "code",
   "execution_count": 12,
   "outputs": [
    {
     "name": "stderr",
     "output_type": "stream",
     "text": [
      "/var/folders/9c/dyfvcxrx45d7q0h1vnt_h6p40000gn/T/ipykernel_1570/4061227587.py:1: FutureWarning: The default value of regex will change from True to False in a future version.\n",
      "  news_train['news'] = news_train['news'].str.replace(\"[^ㄱ-ㅎㅏ-ㅣ가-힣|a-zA-Z]\",\"\")\n"
     ]
    }
   ],
   "source": [
    "news_train['news'] = news_train['news'].str.replace(\"[^ㄱ-ㅎㅏ-ㅣ가-힣|a-zA-Z]\",\"\")"
   ],
   "metadata": {
    "collapsed": false,
    "pycharm": {
     "name": "#%%\n"
    }
   }
  },
  {
   "cell_type": "code",
   "execution_count": 13,
   "outputs": [],
   "source": [
    "data_list = news_train.news.values.tolist()"
   ],
   "metadata": {
    "collapsed": false,
    "pycharm": {
     "name": "#%%\n"
    }
   }
  },
  {
   "cell_type": "code",
   "execution_count": 14,
   "outputs": [],
   "source": [
    "tokenizer = Mecab(dicpath='/Users/yhkoo/mecab-ko-dic-2.0.3-20170922')"
   ],
   "metadata": {
    "collapsed": false,
    "pycharm": {
     "name": "#%%\n"
    }
   }
  },
  {
   "cell_type": "code",
   "execution_count": 15,
   "outputs": [
    {
     "name": "stdout",
     "output_type": "stream",
     "text": [
      "증권기사입력일조선테마가급등세로마감했다이날조선테마는전장거래일대비급등했다조선테마구성종목에는삼성중공업현대미포조선한국조선해양대우조선해양한전중공업이있다사진연합뉴스베타뉴스이춘희기자일조선테마가급등세로마감했다이날조선테마는전장거래일대비급등했다조선테마구성종목에는삼성중공업현대미포조선한국조선해양대우조선해양한전중공업이있다이가운데삼성중공업은를기록하며조선테마상승을견인했다이어서현대미포조선한국조선해양대우조선해양한진중공업를기록했다베타뉴스이춘희기자pressbetanewsnetCopyrightsBetaNewsnet목록위로\n"
     ]
    }
   ],
   "source": [
    "print(data_list[0])"
   ],
   "metadata": {
    "collapsed": false,
    "pycharm": {
     "name": "#%%\n"
    }
   }
  },
  {
   "cell_type": "code",
   "execution_count": 16,
   "outputs": [],
   "source": [
    "data_word = []\n",
    "for i in range(len(data_list)):\n",
    "    tagged = tokenizer.pos(data_list[i])\n",
    "    nouns = [s for s, t in tagged if t in ['SL','NNG','NNP'] and len(s) > 1]\n",
    "    data_word.append(nouns)"
   ],
   "metadata": {
    "collapsed": false,
    "pycharm": {
     "name": "#%%\n"
    }
   }
  },
  {
   "cell_type": "code",
   "execution_count": 17,
   "outputs": [
    {
     "name": "stdout",
     "output_type": "stream",
     "text": [
      "['에너지', '가격', '상승', '수주', '낭보', '조선', '업종', '반등', '내년도', '라운드', '기대', '피크', '아웃', '고점', '통과', '해운', '업종', '조선', '업종', '투자', '매력', '전망', '조선', '업종', '동반', '강세', '날삼', '중공업', '현대', '중공업', '대우', '조선', '해양', '현대', '미포', '조선', '조선', '업종', '전반', '상승', '마감', '조선', '업종', '상승세', '날삼', '중공업', '버뮤다', '지역', '선사', '규모', '액화천연가스', 'LNG', '운반', '선척', '수주', '공시', '회사', '셔틀', '탱커', '수주', '주일', '새조', '수주', '실적', '이날', '한국', '조선', '해양', '자회사', '현대', '중공업', '중동', '지역', '선주', '석유', '화학', '운반', 'PC', '선척', '수주', '발표', '대우', '조선', '해양', '지역', '선주', 'LNG', '운반', '선척', '수주', '공시', '신한', '금융', '투자', 'LNG', '운반선', '탱커', '원유', '석유', '화학제품', '운반', '내년', '인상', '견인', '전망', 'LNG', '가격', '겨울', '에너지', '수요', '친환경', '에너지', '전환', '화석', '연료', '탄소', '배출', '가스', '소비량', '급증', '수요', '공급', '제한', 'LNG', '가격', '고공', '행진', '분기', '평균', 'LNG', '가격', '전년', '동기', '대비', '상승', 'LNG', '운반선', '발주', '환경', 'LNG', '운반선', '발주', '예상', '프로젝트', '카타르', '노스', '필드', '프로젝트', '내년', '모잠비크', 'LNG', '프로젝트', '내년', '상반기', '러시아', '발틱', 'LNG', '프로젝트', '조선', '업종', '본격', '회복', '탱커', '발주', '재개', '분석', '원유', '석유', '제품', '수요', '회복', '기존', '선박', '공급', '과잉', '운임', '확인', '황어', '금융', '투자', '연구원', '탱커', '석유', '수출국', '기구', 'OPEC', '증산', '기회', '복리', '오프닝', '경제', '재개', '석유', '수요', '회복', '물동량', '증가', '확인', '대비', '운임', '회복', '발주', '시간', '필요', '설명', '연기자', 'yeonhankyungcom', '관련', '뉴스']\n"
     ]
    }
   ],
   "source": [
    "print(data_word[251])"
   ],
   "metadata": {
    "collapsed": false,
    "pycharm": {
     "name": "#%%\n"
    }
   }
  },
  {
   "cell_type": "code",
   "execution_count": 18,
   "outputs": [],
   "source": [
    "#LDA학습을 위한 객체생성\n",
    "from gensim import corpora\n",
    "\n",
    "id2word = corpora.Dictionary(data_word)\n",
    "id2word.filter_extremes(no_below=10)\n",
    "texts = data_word\n",
    "corpus = [id2word.doc2bow(text) for text in texts]"
   ],
   "metadata": {
    "collapsed": false,
    "pycharm": {
     "name": "#%%\n"
    }
   }
  },
  {
   "cell_type": "code",
   "execution_count": 19,
   "outputs": [],
   "source": [
    "import gensim\n",
    "NUM_TOPICS = 100\n",
    "printset = []\n",
    "\n",
    "ldamodel = gensim.models.LdaModel(corpus=corpus,num_topics=NUM_TOPICS, id2word=id2word,passes=15, random_state=777)\n",
    "topics = ldamodel.print_topics(num_words=10)\n",
    "for topic in topics:\n",
    "    printset.append(topic)"
   ],
   "metadata": {
    "collapsed": false,
    "pycharm": {
     "name": "#%%\n"
    }
   }
  },
  {
   "cell_type": "code",
   "execution_count": 25,
   "outputs": [
    {
     "name": "stdout",
     "output_type": "stream",
     "text": [
      "[(79, '0.305*\"비주얼\" + 0.147*\"플러스\" + 0.121*\"단장\" + 0.077*\"동아\" + 0.049*\"애플\" + 0.042*\"사업단\" + 0.038*\"합성\" + 0.022*\"지사장\" + 0.017*\"그래프\" + 0.016*\"학장\"'), (34, '0.030*\"한진\" + 0.028*\"인수\" + 0.021*\"자금\" + 0.017*\"기업\" + 0.016*\"매각\" + 0.015*\"구조\" + 0.012*\"회사\" + 0.012*\"경영\" + 0.012*\"산업은행\" + 0.011*\"자산\"'), (27, '0.047*\"SK\" + 0.045*\"바이오\" + 0.037*\"삼성전자\" + 0.034*\"LG\" + 0.021*\"반도체\" + 0.015*\"CJ\" + 0.014*\"삼성\" + 0.014*\"카카오\" + 0.014*\"화학\" + 0.014*\"전자\"'), (40, '0.053*\"분기\" + 0.045*\"영업\" + 0.038*\"이익\" + 0.034*\"실적\" + 0.032*\"증가\" + 0.030*\"대비\" + 0.029*\"올해\" + 0.028*\"매출\" + 0.028*\"지난해\" + 0.024*\"전년\"'), (81, '0.049*\"행위\" + 0.041*\"수사\" + 0.035*\"공정위\" + 0.034*\"공정\" + 0.029*\"불법\" + 0.028*\"사건\" + 0.028*\"조사\" + 0.026*\"제재\" + 0.019*\"위반\" + 0.018*\"해운법\"'), (49, '0.615*\"뉴스\" + 0.076*\"수정\" + 0.055*\"보도\" + 0.047*\"전체\" + 0.032*\"입력\" + 0.028*\"앵커\" + 0.028*\"영상\" + 0.020*\"시간\" + 0.020*\"오늘\" + 0.010*\"리포트\"'), (87, '0.278*\"연안\" + 0.237*\"세월\" + 0.138*\"여객선\" + 0.084*\"승객\" + 0.077*\"화물선\" + 0.065*\"여객\" + 0.025*\"부기\" + 0.016*\"초대형\" + 0.012*\"서민\" + 0.009*\"선척\"'), (93, '0.035*\"발레\" + 0.031*\"모바일\" + 0.030*\"콘텐츠\" + 0.029*\"게임\" + 0.024*\"강교\" + 0.023*\"단원\" + 0.023*\"라이프\" + 0.020*\"프로젝트\" + 0.019*\"사이트\" + 0.019*\"여행\"'), (10, '0.000*\"도초도\" + 0.000*\"농대\" + 0.000*\"종재\" + 0.000*\"나성\" + 0.000*\"죽산\" + 0.000*\"온수\" + 0.000*\"암태면\" + 0.000*\"폐등\" + 0.000*\"증폭기\" + 0.000*\"스위칭\"'), (30, '0.151*\"부경\" + 0.139*\"실습\" + 0.103*\"스틸\" + 0.098*\"실습선\" + 0.080*\"토크\" + 0.060*\"고온\" + 0.047*\"차주\" + 0.042*\"임팩트\" + 0.037*\"사업체\" + 0.036*\"도덕희\"'), (82, '0.505*\"위로\" + 0.172*\"베타\" + 0.055*\"이춘희\" + 0.052*\"성보\" + 0.034*\"snetCopyrightsBetaNewsnet\" + 0.020*\"범양건영\" + 0.008*\"대망\" + 0.000*\"암태면\" + 0.000*\"죽산\" + 0.000*\"나성\"'), (85, '0.310*\"사업\" + 0.060*\"개발\" + 0.038*\"추진\" + 0.032*\"계획\" + 0.031*\"건설\" + 0.017*\"확보\" + 0.016*\"투자\" + 0.015*\"단계\" + 0.014*\"선정\" + 0.013*\"규모\"'), (94, '0.056*\"기술\" + 0.024*\"시스템\" + 0.024*\"데이터\" + 0.024*\"개발\" + 0.020*\"스마트\" + 0.018*\"서비스\" + 0.018*\"정보\" + 0.017*\"디지털\" + 0.015*\"산업\" + 0.014*\"활용\"'), (90, '0.019*\"관광\" + 0.018*\"체험\" + 0.016*\"바다\" + 0.013*\"관광객\" + 0.013*\"레저\" + 0.012*\"마을\" + 0.012*\"해수욕장\" + 0.012*\"여행\" + 0.010*\"축제\" + 0.010*\"보령\"'), (61, '0.421*\"신규\" + 0.210*\"장비\" + 0.141*\"추가\" + 0.018*\"개선\" + 0.017*\"필드\" + 0.015*\"슬롯\" + 0.015*\"보행\" + 0.014*\"ETF\" + 0.013*\"퀘스트\" + 0.012*\"관망\"'), (46, '0.051*\"바다\" + 0.036*\"동해\" + 0.028*\"독도\" + 0.021*\"멸종\" + 0.017*\"발견\" + 0.015*\"해안\" + 0.015*\"국립\" + 0.011*\"해저\" + 0.010*\"기지\" + 0.010*\"울릉도\"'), (42, '0.424*\"이치\" + 0.156*\"업주\" + 0.142*\"에이치\" + 0.077*\"일고\" + 0.031*\"컬처\" + 0.022*\"경의선\" + 0.017*\"기염\" + 0.014*\"오더\" + 0.008*\"아이유\" + 0.005*\"이충\"'), (60, '0.726*\"특수\" + 0.063*\"유로\" + 0.046*\"페인트\" + 0.028*\"브이\" + 0.022*\"노루\" + 0.020*\"MH\" + 0.018*\"크라운\" + 0.011*\"삼화\" + 0.011*\"해태\" + 0.009*\"동부건설\"'), (23, '0.216*\"회전율\" + 0.127*\"총주\" + 0.000*\"온수\" + 0.000*\"특이점\" + 0.000*\"종재\" + 0.000*\"나성\" + 0.000*\"죽산\" + 0.000*\"OB\" + 0.000*\"암태면\" + 0.000*\"노영희\"'), (7, '0.033*\"변화\" + 0.031*\"기후\" + 0.025*\"교수\" + 0.023*\"세계\" + 0.021*\"지구\" + 0.017*\"과학\" + 0.010*\"위기\" + 0.009*\"박사\" + 0.009*\"생물\" + 0.009*\"연구\"')]\n"
     ]
    }
   ],
   "source": [
    "print(topics)"
   ],
   "metadata": {
    "collapsed": false,
    "pycharm": {
     "name": "#%%\n"
    }
   }
  },
  {
   "cell_type": "code",
   "execution_count": 23,
   "outputs": [],
   "source": [
    "df = pd.DataFrame(printset)"
   ],
   "metadata": {
    "collapsed": false,
    "pycharm": {
     "name": "#%%\n"
    }
   }
  },
  {
   "cell_type": "code",
   "execution_count": 24,
   "outputs": [
    {
     "data": {
      "text/plain": "     0                                                  1\n0   79  0.305*\"비주얼\" + 0.147*\"플러스\" + 0.121*\"단장\" + 0.077...\n1   34  0.030*\"한진\" + 0.028*\"인수\" + 0.021*\"자금\" + 0.017*\"...\n2   27  0.047*\"SK\" + 0.045*\"바이오\" + 0.037*\"삼성전자\" + 0.03...\n3   40  0.053*\"분기\" + 0.045*\"영업\" + 0.038*\"이익\" + 0.034*\"...\n4   81  0.049*\"행위\" + 0.041*\"수사\" + 0.035*\"공정위\" + 0.034*...\n5   49  0.615*\"뉴스\" + 0.076*\"수정\" + 0.055*\"보도\" + 0.047*\"...\n6   87  0.278*\"연안\" + 0.237*\"세월\" + 0.138*\"여객선\" + 0.084*...\n7   93  0.035*\"발레\" + 0.031*\"모바일\" + 0.030*\"콘텐츠\" + 0.029...\n8   10  0.000*\"도초도\" + 0.000*\"농대\" + 0.000*\"종재\" + 0.000*...\n9   30  0.151*\"부경\" + 0.139*\"실습\" + 0.103*\"스틸\" + 0.098*\"...\n10  82  0.505*\"위로\" + 0.172*\"베타\" + 0.055*\"이춘희\" + 0.052*...\n11  85  0.310*\"사업\" + 0.060*\"개발\" + 0.038*\"추진\" + 0.032*\"...\n12  94  0.056*\"기술\" + 0.024*\"시스템\" + 0.024*\"데이터\" + 0.024...\n13  90  0.019*\"관광\" + 0.018*\"체험\" + 0.016*\"바다\" + 0.013*\"...\n14  61  0.421*\"신규\" + 0.210*\"장비\" + 0.141*\"추가\" + 0.018*\"...\n15  46  0.051*\"바다\" + 0.036*\"동해\" + 0.028*\"독도\" + 0.021*\"...\n16  42  0.424*\"이치\" + 0.156*\"업주\" + 0.142*\"에이치\" + 0.077*...\n17  60  0.726*\"특수\" + 0.063*\"유로\" + 0.046*\"페인트\" + 0.028*...\n18  23  0.216*\"회전율\" + 0.127*\"총주\" + 0.000*\"온수\" + 0.000*...\n19   7  0.033*\"변화\" + 0.031*\"기후\" + 0.025*\"교수\" + 0.023*\"...",
      "text/html": "<div>\n<style scoped>\n    .dataframe tbody tr th:only-of-type {\n        vertical-align: middle;\n    }\n\n    .dataframe tbody tr th {\n        vertical-align: top;\n    }\n\n    .dataframe thead th {\n        text-align: right;\n    }\n</style>\n<table border=\"1\" class=\"dataframe\">\n  <thead>\n    <tr style=\"text-align: right;\">\n      <th></th>\n      <th>0</th>\n      <th>1</th>\n    </tr>\n  </thead>\n  <tbody>\n    <tr>\n      <th>0</th>\n      <td>79</td>\n      <td>0.305*\"비주얼\" + 0.147*\"플러스\" + 0.121*\"단장\" + 0.077...</td>\n    </tr>\n    <tr>\n      <th>1</th>\n      <td>34</td>\n      <td>0.030*\"한진\" + 0.028*\"인수\" + 0.021*\"자금\" + 0.017*\"...</td>\n    </tr>\n    <tr>\n      <th>2</th>\n      <td>27</td>\n      <td>0.047*\"SK\" + 0.045*\"바이오\" + 0.037*\"삼성전자\" + 0.03...</td>\n    </tr>\n    <tr>\n      <th>3</th>\n      <td>40</td>\n      <td>0.053*\"분기\" + 0.045*\"영업\" + 0.038*\"이익\" + 0.034*\"...</td>\n    </tr>\n    <tr>\n      <th>4</th>\n      <td>81</td>\n      <td>0.049*\"행위\" + 0.041*\"수사\" + 0.035*\"공정위\" + 0.034*...</td>\n    </tr>\n    <tr>\n      <th>5</th>\n      <td>49</td>\n      <td>0.615*\"뉴스\" + 0.076*\"수정\" + 0.055*\"보도\" + 0.047*\"...</td>\n    </tr>\n    <tr>\n      <th>6</th>\n      <td>87</td>\n      <td>0.278*\"연안\" + 0.237*\"세월\" + 0.138*\"여객선\" + 0.084*...</td>\n    </tr>\n    <tr>\n      <th>7</th>\n      <td>93</td>\n      <td>0.035*\"발레\" + 0.031*\"모바일\" + 0.030*\"콘텐츠\" + 0.029...</td>\n    </tr>\n    <tr>\n      <th>8</th>\n      <td>10</td>\n      <td>0.000*\"도초도\" + 0.000*\"농대\" + 0.000*\"종재\" + 0.000*...</td>\n    </tr>\n    <tr>\n      <th>9</th>\n      <td>30</td>\n      <td>0.151*\"부경\" + 0.139*\"실습\" + 0.103*\"스틸\" + 0.098*\"...</td>\n    </tr>\n    <tr>\n      <th>10</th>\n      <td>82</td>\n      <td>0.505*\"위로\" + 0.172*\"베타\" + 0.055*\"이춘희\" + 0.052*...</td>\n    </tr>\n    <tr>\n      <th>11</th>\n      <td>85</td>\n      <td>0.310*\"사업\" + 0.060*\"개발\" + 0.038*\"추진\" + 0.032*\"...</td>\n    </tr>\n    <tr>\n      <th>12</th>\n      <td>94</td>\n      <td>0.056*\"기술\" + 0.024*\"시스템\" + 0.024*\"데이터\" + 0.024...</td>\n    </tr>\n    <tr>\n      <th>13</th>\n      <td>90</td>\n      <td>0.019*\"관광\" + 0.018*\"체험\" + 0.016*\"바다\" + 0.013*\"...</td>\n    </tr>\n    <tr>\n      <th>14</th>\n      <td>61</td>\n      <td>0.421*\"신규\" + 0.210*\"장비\" + 0.141*\"추가\" + 0.018*\"...</td>\n    </tr>\n    <tr>\n      <th>15</th>\n      <td>46</td>\n      <td>0.051*\"바다\" + 0.036*\"동해\" + 0.028*\"독도\" + 0.021*\"...</td>\n    </tr>\n    <tr>\n      <th>16</th>\n      <td>42</td>\n      <td>0.424*\"이치\" + 0.156*\"업주\" + 0.142*\"에이치\" + 0.077*...</td>\n    </tr>\n    <tr>\n      <th>17</th>\n      <td>60</td>\n      <td>0.726*\"특수\" + 0.063*\"유로\" + 0.046*\"페인트\" + 0.028*...</td>\n    </tr>\n    <tr>\n      <th>18</th>\n      <td>23</td>\n      <td>0.216*\"회전율\" + 0.127*\"총주\" + 0.000*\"온수\" + 0.000*...</td>\n    </tr>\n    <tr>\n      <th>19</th>\n      <td>7</td>\n      <td>0.033*\"변화\" + 0.031*\"기후\" + 0.025*\"교수\" + 0.023*\"...</td>\n    </tr>\n  </tbody>\n</table>\n</div>"
     },
     "execution_count": 24,
     "metadata": {},
     "output_type": "execute_result"
    }
   ],
   "source": [
    "df"
   ],
   "metadata": {
    "collapsed": false,
    "pycharm": {
     "name": "#%%\n"
    }
   }
  },
  {
   "cell_type": "code",
   "execution_count": 26,
   "outputs": [],
   "source": [
    "lpt = ldamodel.print_topics(num_topics=100, num_words=10)"
   ],
   "metadata": {
    "collapsed": false,
    "pycharm": {
     "name": "#%%\n"
    }
   }
  },
  {
   "cell_type": "code",
   "execution_count": 30,
   "outputs": [],
   "source": [
    "lpt_df = pd.DataFrame(lpt)\n",
    "ll = lpt_df.drop(columns=0)"
   ],
   "metadata": {
    "collapsed": false,
    "pycharm": {
     "name": "#%%\n"
    }
   }
  },
  {
   "cell_type": "code",
   "execution_count": 33,
   "outputs": [
    {
     "data": {
      "text/plain": "                                                연관키워드\n0   0.022*\"지역\" + 0.021*\"추진\" + 0.020*\"산업\" + 0.019*\"...\n1   0.237*\"항공\" + 0.098*\"공항\" + 0.058*\"항공사\" + 0.058*...\n2   0.323*\"저널\" + 0.173*\"작물\" + 0.144*\"통장\" + 0.131*\"...\n3   0.019*\"후보\" + 0.014*\"정치\" + 0.014*\"민주당\" + 0.012*...\n4   0.565*\"유엔\" + 0.102*\"진원\" + 0.089*\"밸리\" + 0.039*\"...\n..                                                ...\n95  0.453*\"주일\" + 0.213*\"식수\" + 0.181*\"원상\" + 0.000*\"...\n96  0.484*\"자원\" + 0.132*\"활용\" + 0.122*\"순환\" + 0.102*\"...\n97  0.029*\"판매\" + 0.023*\"상품\" + 0.021*\"제품\" + 0.021*\"...\n98  0.158*\"금융\" + 0.061*\"은행\" + 0.058*\"투자\" + 0.049*\"...\n99  0.054*\"해군\" + 0.047*\"위성\" + 0.042*\"훈련\" + 0.032*\"...\n\n[100 rows x 1 columns]",
      "text/html": "<div>\n<style scoped>\n    .dataframe tbody tr th:only-of-type {\n        vertical-align: middle;\n    }\n\n    .dataframe tbody tr th {\n        vertical-align: top;\n    }\n\n    .dataframe thead th {\n        text-align: right;\n    }\n</style>\n<table border=\"1\" class=\"dataframe\">\n  <thead>\n    <tr style=\"text-align: right;\">\n      <th></th>\n      <th>연관키워드</th>\n    </tr>\n  </thead>\n  <tbody>\n    <tr>\n      <th>0</th>\n      <td>0.022*\"지역\" + 0.021*\"추진\" + 0.020*\"산업\" + 0.019*\"...</td>\n    </tr>\n    <tr>\n      <th>1</th>\n      <td>0.237*\"항공\" + 0.098*\"공항\" + 0.058*\"항공사\" + 0.058*...</td>\n    </tr>\n    <tr>\n      <th>2</th>\n      <td>0.323*\"저널\" + 0.173*\"작물\" + 0.144*\"통장\" + 0.131*\"...</td>\n    </tr>\n    <tr>\n      <th>3</th>\n      <td>0.019*\"후보\" + 0.014*\"정치\" + 0.014*\"민주당\" + 0.012*...</td>\n    </tr>\n    <tr>\n      <th>4</th>\n      <td>0.565*\"유엔\" + 0.102*\"진원\" + 0.089*\"밸리\" + 0.039*\"...</td>\n    </tr>\n    <tr>\n      <th>...</th>\n      <td>...</td>\n    </tr>\n    <tr>\n      <th>95</th>\n      <td>0.453*\"주일\" + 0.213*\"식수\" + 0.181*\"원상\" + 0.000*\"...</td>\n    </tr>\n    <tr>\n      <th>96</th>\n      <td>0.484*\"자원\" + 0.132*\"활용\" + 0.122*\"순환\" + 0.102*\"...</td>\n    </tr>\n    <tr>\n      <th>97</th>\n      <td>0.029*\"판매\" + 0.023*\"상품\" + 0.021*\"제품\" + 0.021*\"...</td>\n    </tr>\n    <tr>\n      <th>98</th>\n      <td>0.158*\"금융\" + 0.061*\"은행\" + 0.058*\"투자\" + 0.049*\"...</td>\n    </tr>\n    <tr>\n      <th>99</th>\n      <td>0.054*\"해군\" + 0.047*\"위성\" + 0.042*\"훈련\" + 0.032*\"...</td>\n    </tr>\n  </tbody>\n</table>\n<p>100 rows × 1 columns</p>\n</div>"
     },
     "execution_count": 33,
     "metadata": {},
     "output_type": "execute_result"
    }
   ],
   "source": [
    "ll_df = ll.rename(columns={1: '연관키워드'})\n",
    "ll_df"
   ],
   "metadata": {
    "collapsed": false,
    "pycharm": {
     "name": "#%%\n"
    }
   }
  },
  {
   "cell_type": "code",
   "execution_count": 35,
   "outputs": [],
   "source": [
    "ll_df.to_csv(\"./lda_marine(19-21).csv\", mode='w')"
   ],
   "metadata": {
    "collapsed": false,
    "pycharm": {
     "name": "#%%\n"
    }
   }
  },
  {
   "cell_type": "code",
   "execution_count": 56,
   "outputs": [
    {
     "name": "stdout",
     "output_type": "stream",
     "text": [
      "0 번째 문서의 topic 비율은 [(0, 0.27748343), (17, 0.6659657), (19, 0.045959007)]\n",
      "1 번째 문서의 topic 비율은 [(1, 0.05430766), (4, 0.037825696), (5, 0.017865071), (17, 0.11871424), (18, 0.108769596), (21, 0.03019154), (25, 0.47794902), (26, 0.031940255), (27, 0.048836093), (29, 0.0380671)]\n",
      "2 번째 문서의 topic 비율은 [(0, 0.13870952), (17, 0.73702216), (24, 0.08691222), (28, 0.030957613)]\n",
      "3 번째 문서의 topic 비율은 [(1, 0.026097644), (11, 0.10751713), (17, 0.18525884), (18, 0.18471228), (24, 0.08447206), (25, 0.29464912), (26, 0.10304267)]\n",
      "4 번째 문서의 topic 비율은 [(2, 0.02729411), (11, 0.1882472), (17, 0.028834265), (18, 0.32785425), (20, 0.028845327), (21, 0.021494621), (25, 0.20394881), (26, 0.14563121), (28, 0.010127118)]\n"
     ]
    }
   ],
   "source": [
    "for i, topic_list in enumerate(ldamodel[corpus]):\n",
    "    if i==5:\n",
    "        break\n",
    "    print(i,'번째 문서의 topic 비율은',topic_list)"
   ],
   "metadata": {
    "collapsed": false,
    "pycharm": {
     "name": "#%%\n"
    }
   }
  },
  {
   "cell_type": "code",
   "execution_count": 57,
   "outputs": [
    {
     "data": {
      "text/plain": "[('제품', 0.042817518),\n ('사용', 0.026955176),\n ('식품', 0.026630742),\n ('플라스틱', 0.026243828),\n ('소재', 0.01776406),\n ('생산', 0.015270778),\n ('용기', 0.012305038),\n ('판매', 0.01185771),\n ('브랜드', 0.011285035),\n ('택배', 0.01063551)]"
     },
     "execution_count": 57,
     "metadata": {},
     "output_type": "execute_result"
    }
   ],
   "source": [
    "ldamodel.s .show_topic(5, topn=20)"
   ],
   "metadata": {
    "collapsed": false,
    "pycharm": {
     "name": "#%%\n"
    }
   }
  },
  {
   "cell_type": "code",
   "execution_count": 58,
   "outputs": [],
   "source": [
    "def make_topictable_per_doc(ldamodel, corpus):\n",
    "    topic_table = pd.DataFrame()\n",
    "\n",
    "    # 몇 번째 문서인지를 의미하는 문서 번호와 해당 문서의 토픽 비중을 한 줄씩 꺼내온다.\n",
    "    for i, row in enumerate(ldamodel[corpus]):\n",
    "        # doc = topic_list[0] if ldamodel.per_word_topics else topic_list\n",
    "        doc = sorted(row, key=lambda x: (x[1]), reverse=True)\n",
    "        # 각 문서에 대해서 비중이 높은 토픽순으로 토픽을 정렬한다.\n",
    "        # EX) 정렬 전 0번 문서 : (2번 토픽, 48.5%), (8번 토픽, 25%), (10번 토픽, 5%), (12번 토픽, 21.5%),\n",
    "        # Ex) 정렬 후 0번 문서 : (2번 토픽, 48.5%), (8번 토픽, 25%), (12번 토픽, 21.5%), (10번 토픽, 5%)\n",
    "        # 48 > 25 > 21 > 5 순으로 정렬이 된 것.\n",
    "\n",
    "        # 모든 문서에 대해서 각각 아래를 수행\n",
    "        for j, (topic_num, prop_topic) in enumerate(doc): #  몇 번 토픽인지와 비중을 나눠서 저장한다.\n",
    "            if j == 0:  # 정렬을 한 상태이므로 가장 앞에 있는 것이 가장 비중이 높은 토픽\n",
    "                wp = ldamodel.show_topic(topic_num,topn=10)\n",
    "                topic_keywords = \", \".join([word for word, prop in wp])\n",
    "                topic_table = topic_table.append(pd.Series([int(topic_num), round(prop_topic,4), topic_keywords]), ignore_index=True)\n",
    "                # 가장 비중이 높은 토픽과, 가장 비중이 높은 토픽의 비중과, 전체 토픽의 비중을 저장한다.\n",
    "            else:\n",
    "                break\n",
    "    return(topic_table)"
   ],
   "metadata": {
    "collapsed": false,
    "pycharm": {
     "name": "#%%\n"
    }
   }
  },
  {
   "cell_type": "code",
   "execution_count": 59,
   "outputs": [
    {
     "name": "stderr",
     "output_type": "stream",
     "text": [
      "/var/folders/9c/dyfvcxrx45d7q0h1vnt_h6p40000gn/T/ipykernel_930/3622223429.py:18: FutureWarning: The frame.append method is deprecated and will be removed from pandas in a future version. Use pandas.concat instead.\n",
      "  topic_table = topic_table.append(pd.Series([int(topic_num), round(prop_topic,4), topic_keywords]), ignore_index=True)\n",
      "/var/folders/9c/dyfvcxrx45d7q0h1vnt_h6p40000gn/T/ipykernel_930/3622223429.py:18: FutureWarning: The frame.append method is deprecated and will be removed from pandas in a future version. Use pandas.concat instead.\n",
      "  topic_table = topic_table.append(pd.Series([int(topic_num), round(prop_topic,4), topic_keywords]), ignore_index=True)\n"
     ]
    },
    {
     "data": {
      "text/plain": "   문서 번호  가장 비중이 높은 토픽  가장 높은 토픽의 비중                                     연관어\n0      0            17        0.6659  상승, 전망, 세계, 가격, 예상, 수준, 조선, 기록, 최근, 운임\n1      1            25        0.4779  영상, 바다, 시간, 뉴스, 기사, 사람, 문화, 제주, 월일, 사진\n2      2            17        0.7370  상승, 전망, 세계, 가격, 예상, 수준, 조선, 기록, 최근, 운임\n3      3            25        0.2947  영상, 바다, 시간, 뉴스, 기사, 사람, 문화, 제주, 월일, 사진\n4      4            18        0.3279  산업, 지원, 분야, 기술, 사업, 기업, 개발, 혁신, 연구, 협력\n5      5            17        0.2893  상승, 전망, 세계, 가격, 예상, 수준, 조선, 기록, 최근, 운임\n6      6            17        0.3358  상승, 전망, 세계, 가격, 예상, 수준, 조선, 기록, 최근, 운임\n7      7            25        0.2920  영상, 바다, 시간, 뉴스, 기사, 사람, 문화, 제주, 월일, 사진\n8      8            17        0.2993  상승, 전망, 세계, 가격, 예상, 수준, 조선, 기록, 최근, 운임\n9      9            17        0.4301  상승, 전망, 세계, 가격, 예상, 수준, 조선, 기록, 최근, 운임",
      "text/html": "<div>\n<style scoped>\n    .dataframe tbody tr th:only-of-type {\n        vertical-align: middle;\n    }\n\n    .dataframe tbody tr th {\n        vertical-align: top;\n    }\n\n    .dataframe thead th {\n        text-align: right;\n    }\n</style>\n<table border=\"1\" class=\"dataframe\">\n  <thead>\n    <tr style=\"text-align: right;\">\n      <th></th>\n      <th>문서 번호</th>\n      <th>가장 비중이 높은 토픽</th>\n      <th>가장 높은 토픽의 비중</th>\n      <th>연관어</th>\n    </tr>\n  </thead>\n  <tbody>\n    <tr>\n      <th>0</th>\n      <td>0</td>\n      <td>17</td>\n      <td>0.6659</td>\n      <td>상승, 전망, 세계, 가격, 예상, 수준, 조선, 기록, 최근, 운임</td>\n    </tr>\n    <tr>\n      <th>1</th>\n      <td>1</td>\n      <td>25</td>\n      <td>0.4779</td>\n      <td>영상, 바다, 시간, 뉴스, 기사, 사람, 문화, 제주, 월일, 사진</td>\n    </tr>\n    <tr>\n      <th>2</th>\n      <td>2</td>\n      <td>17</td>\n      <td>0.7370</td>\n      <td>상승, 전망, 세계, 가격, 예상, 수준, 조선, 기록, 최근, 운임</td>\n    </tr>\n    <tr>\n      <th>3</th>\n      <td>3</td>\n      <td>25</td>\n      <td>0.2947</td>\n      <td>영상, 바다, 시간, 뉴스, 기사, 사람, 문화, 제주, 월일, 사진</td>\n    </tr>\n    <tr>\n      <th>4</th>\n      <td>4</td>\n      <td>18</td>\n      <td>0.3279</td>\n      <td>산업, 지원, 분야, 기술, 사업, 기업, 개발, 혁신, 연구, 협력</td>\n    </tr>\n    <tr>\n      <th>5</th>\n      <td>5</td>\n      <td>17</td>\n      <td>0.2893</td>\n      <td>상승, 전망, 세계, 가격, 예상, 수준, 조선, 기록, 최근, 운임</td>\n    </tr>\n    <tr>\n      <th>6</th>\n      <td>6</td>\n      <td>17</td>\n      <td>0.3358</td>\n      <td>상승, 전망, 세계, 가격, 예상, 수준, 조선, 기록, 최근, 운임</td>\n    </tr>\n    <tr>\n      <th>7</th>\n      <td>7</td>\n      <td>25</td>\n      <td>0.2920</td>\n      <td>영상, 바다, 시간, 뉴스, 기사, 사람, 문화, 제주, 월일, 사진</td>\n    </tr>\n    <tr>\n      <th>8</th>\n      <td>8</td>\n      <td>17</td>\n      <td>0.2993</td>\n      <td>상승, 전망, 세계, 가격, 예상, 수준, 조선, 기록, 최근, 운임</td>\n    </tr>\n    <tr>\n      <th>9</th>\n      <td>9</td>\n      <td>17</td>\n      <td>0.4301</td>\n      <td>상승, 전망, 세계, 가격, 예상, 수준, 조선, 기록, 최근, 운임</td>\n    </tr>\n  </tbody>\n</table>\n</div>"
     },
     "execution_count": 59,
     "metadata": {},
     "output_type": "execute_result"
    }
   ],
   "source": [
    "topictable = make_topictable_per_doc(ldamodel, corpus)\n",
    "topictable = topictable.reset_index() # 문서 번호을 의미하는 열(column)로 사용하기 위해서 인덱스 열을 하나 더 만든다.\n",
    "topictable.columns = ['문서 번호', '가장 비중이 높은 토픽', '가장 높은 토픽의 비중', ' 연관어']\n",
    "topictable[:10]"
   ],
   "metadata": {
    "collapsed": false,
    "pycharm": {
     "name": "#%%\n"
    }
   }
  },
  {
   "cell_type": "code",
   "execution_count": 60,
   "outputs": [
    {
     "data": {
      "text/plain": "    문서 번호  가장 비중이 높은 토픽  가장 높은 토픽의 비중  \\\n0       0            17        0.6659   \n1       1            25        0.4779   \n2       2            17        0.7370   \n3       3            25        0.2947   \n4       4            18        0.3279   \n..    ...           ...           ...   \n95     95            19        0.3200   \n96     96            19        0.2989   \n97     97            18        0.5553   \n98     98            14        0.4852   \n99     99            17        0.7054   \n\n                                           연관어  \n0       상승, 전망, 세계, 가격, 예상, 수준, 조선, 기록, 최근, 운임  \n1       영상, 바다, 시간, 뉴스, 기사, 사람, 문화, 제주, 월일, 사진  \n2       상승, 전망, 세계, 가격, 예상, 수준, 조선, 기록, 최근, 운임  \n3       영상, 바다, 시간, 뉴스, 기사, 사람, 문화, 제주, 월일, 사진  \n4       산업, 지원, 분야, 기술, 사업, 기업, 개발, 혁신, 연구, 협력  \n..                                         ...  \n95     기업, 현대, 그룹, 투자, 금융, 시장, 회장, 사업, 인수, 글로벌  \n96     기업, 현대, 그룹, 투자, 금융, 시장, 회장, 사업, 인수, 글로벌  \n97      산업, 지원, 분야, 기술, 사업, 기업, 개발, 혁신, 연구, 협력  \n98  기술, 시스템, 데이터, 안전, 개발, 정보, 서비스, 디지털, 활용, 선박  \n99      상승, 전망, 세계, 가격, 예상, 수준, 조선, 기록, 최근, 운임  \n\n[100 rows x 4 columns]",
      "text/html": "<div>\n<style scoped>\n    .dataframe tbody tr th:only-of-type {\n        vertical-align: middle;\n    }\n\n    .dataframe tbody tr th {\n        vertical-align: top;\n    }\n\n    .dataframe thead th {\n        text-align: right;\n    }\n</style>\n<table border=\"1\" class=\"dataframe\">\n  <thead>\n    <tr style=\"text-align: right;\">\n      <th></th>\n      <th>문서 번호</th>\n      <th>가장 비중이 높은 토픽</th>\n      <th>가장 높은 토픽의 비중</th>\n      <th>연관어</th>\n    </tr>\n  </thead>\n  <tbody>\n    <tr>\n      <th>0</th>\n      <td>0</td>\n      <td>17</td>\n      <td>0.6659</td>\n      <td>상승, 전망, 세계, 가격, 예상, 수준, 조선, 기록, 최근, 운임</td>\n    </tr>\n    <tr>\n      <th>1</th>\n      <td>1</td>\n      <td>25</td>\n      <td>0.4779</td>\n      <td>영상, 바다, 시간, 뉴스, 기사, 사람, 문화, 제주, 월일, 사진</td>\n    </tr>\n    <tr>\n      <th>2</th>\n      <td>2</td>\n      <td>17</td>\n      <td>0.7370</td>\n      <td>상승, 전망, 세계, 가격, 예상, 수준, 조선, 기록, 최근, 운임</td>\n    </tr>\n    <tr>\n      <th>3</th>\n      <td>3</td>\n      <td>25</td>\n      <td>0.2947</td>\n      <td>영상, 바다, 시간, 뉴스, 기사, 사람, 문화, 제주, 월일, 사진</td>\n    </tr>\n    <tr>\n      <th>4</th>\n      <td>4</td>\n      <td>18</td>\n      <td>0.3279</td>\n      <td>산업, 지원, 분야, 기술, 사업, 기업, 개발, 혁신, 연구, 협력</td>\n    </tr>\n    <tr>\n      <th>...</th>\n      <td>...</td>\n      <td>...</td>\n      <td>...</td>\n      <td>...</td>\n    </tr>\n    <tr>\n      <th>95</th>\n      <td>95</td>\n      <td>19</td>\n      <td>0.3200</td>\n      <td>기업, 현대, 그룹, 투자, 금융, 시장, 회장, 사업, 인수, 글로벌</td>\n    </tr>\n    <tr>\n      <th>96</th>\n      <td>96</td>\n      <td>19</td>\n      <td>0.2989</td>\n      <td>기업, 현대, 그룹, 투자, 금융, 시장, 회장, 사업, 인수, 글로벌</td>\n    </tr>\n    <tr>\n      <th>97</th>\n      <td>97</td>\n      <td>18</td>\n      <td>0.5553</td>\n      <td>산업, 지원, 분야, 기술, 사업, 기업, 개발, 혁신, 연구, 협력</td>\n    </tr>\n    <tr>\n      <th>98</th>\n      <td>98</td>\n      <td>14</td>\n      <td>0.4852</td>\n      <td>기술, 시스템, 데이터, 안전, 개발, 정보, 서비스, 디지털, 활용, 선박</td>\n    </tr>\n    <tr>\n      <th>99</th>\n      <td>99</td>\n      <td>17</td>\n      <td>0.7054</td>\n      <td>상승, 전망, 세계, 가격, 예상, 수준, 조선, 기록, 최근, 운임</td>\n    </tr>\n  </tbody>\n</table>\n<p>100 rows × 4 columns</p>\n</div>"
     },
     "execution_count": 60,
     "metadata": {},
     "output_type": "execute_result"
    }
   ],
   "source": [
    "topictable[:100]"
   ],
   "metadata": {
    "collapsed": false,
    "pycharm": {
     "name": "#%%\n"
    }
   }
  },
  {
   "cell_type": "markdown",
   "source": [
    "import warnings\n",
    "warnings..filterwarnings(action = 'ignore')\n",
    "warning 무시하기"
   ],
   "metadata": {
    "collapsed": false
   }
  },
  {
   "cell_type": "code",
   "execution_count": 71,
   "outputs": [
    {
     "data": {
      "text/plain": "         문서 번호  가장 비중이 높은 토픽  가장 높은 토픽의 비중  \\\n0            0            17        0.6659   \n1            1            25        0.4779   \n2            2            17        0.7370   \n3            3            25        0.2947   \n4            4            18        0.3279   \n...        ...           ...           ...   \n144571  144571            18        0.2344   \n144583  144583            19        0.5237   \n144584  144584            19        0.5232   \n144587  144587            19        0.2912   \n144592  144592             7        0.4774   \n\n                                            연관어  \n0        상승, 전망, 세계, 가격, 예상, 수준, 조선, 기록, 최근, 운임  \n1        영상, 바다, 시간, 뉴스, 기사, 사람, 문화, 제주, 월일, 사진  \n2        상승, 전망, 세계, 가격, 예상, 수준, 조선, 기록, 최근, 운임  \n3        영상, 바다, 시간, 뉴스, 기사, 사람, 문화, 제주, 월일, 사진  \n4        산업, 지원, 분야, 기술, 사업, 기업, 개발, 혁신, 연구, 협력  \n...                                         ...  \n144571   산업, 지원, 분야, 기술, 사업, 기업, 개발, 혁신, 연구, 협력  \n144583  기업, 현대, 그룹, 투자, 금융, 시장, 회장, 사업, 인수, 글로벌  \n144584  기업, 현대, 그룹, 투자, 금융, 시장, 회장, 사업, 인수, 글로벌  \n144587  기업, 현대, 그룹, 투자, 금융, 시장, 회장, 사업, 인수, 글로벌  \n144592  코로나, 지원, 경제, 수출, 금융, 산업, 기업, 정부, 전체, 확대  \n\n[65473 rows x 4 columns]",
      "text/html": "<div>\n<style scoped>\n    .dataframe tbody tr th:only-of-type {\n        vertical-align: middle;\n    }\n\n    .dataframe tbody tr th {\n        vertical-align: top;\n    }\n\n    .dataframe thead th {\n        text-align: right;\n    }\n</style>\n<table border=\"1\" class=\"dataframe\">\n  <thead>\n    <tr style=\"text-align: right;\">\n      <th></th>\n      <th>문서 번호</th>\n      <th>가장 비중이 높은 토픽</th>\n      <th>가장 높은 토픽의 비중</th>\n      <th>연관어</th>\n    </tr>\n  </thead>\n  <tbody>\n    <tr>\n      <th>0</th>\n      <td>0</td>\n      <td>17</td>\n      <td>0.6659</td>\n      <td>상승, 전망, 세계, 가격, 예상, 수준, 조선, 기록, 최근, 운임</td>\n    </tr>\n    <tr>\n      <th>1</th>\n      <td>1</td>\n      <td>25</td>\n      <td>0.4779</td>\n      <td>영상, 바다, 시간, 뉴스, 기사, 사람, 문화, 제주, 월일, 사진</td>\n    </tr>\n    <tr>\n      <th>2</th>\n      <td>2</td>\n      <td>17</td>\n      <td>0.7370</td>\n      <td>상승, 전망, 세계, 가격, 예상, 수준, 조선, 기록, 최근, 운임</td>\n    </tr>\n    <tr>\n      <th>3</th>\n      <td>3</td>\n      <td>25</td>\n      <td>0.2947</td>\n      <td>영상, 바다, 시간, 뉴스, 기사, 사람, 문화, 제주, 월일, 사진</td>\n    </tr>\n    <tr>\n      <th>4</th>\n      <td>4</td>\n      <td>18</td>\n      <td>0.3279</td>\n      <td>산업, 지원, 분야, 기술, 사업, 기업, 개발, 혁신, 연구, 협력</td>\n    </tr>\n    <tr>\n      <th>...</th>\n      <td>...</td>\n      <td>...</td>\n      <td>...</td>\n      <td>...</td>\n    </tr>\n    <tr>\n      <th>144571</th>\n      <td>144571</td>\n      <td>18</td>\n      <td>0.2344</td>\n      <td>산업, 지원, 분야, 기술, 사업, 기업, 개발, 혁신, 연구, 협력</td>\n    </tr>\n    <tr>\n      <th>144583</th>\n      <td>144583</td>\n      <td>19</td>\n      <td>0.5237</td>\n      <td>기업, 현대, 그룹, 투자, 금융, 시장, 회장, 사업, 인수, 글로벌</td>\n    </tr>\n    <tr>\n      <th>144584</th>\n      <td>144584</td>\n      <td>19</td>\n      <td>0.5232</td>\n      <td>기업, 현대, 그룹, 투자, 금융, 시장, 회장, 사업, 인수, 글로벌</td>\n    </tr>\n    <tr>\n      <th>144587</th>\n      <td>144587</td>\n      <td>19</td>\n      <td>0.2912</td>\n      <td>기업, 현대, 그룹, 투자, 금융, 시장, 회장, 사업, 인수, 글로벌</td>\n    </tr>\n    <tr>\n      <th>144592</th>\n      <td>144592</td>\n      <td>7</td>\n      <td>0.4774</td>\n      <td>코로나, 지원, 경제, 수출, 금융, 산업, 기업, 정부, 전체, 확대</td>\n    </tr>\n  </tbody>\n</table>\n<p>65473 rows × 4 columns</p>\n</div>"
     },
     "execution_count": 71,
     "metadata": {},
     "output_type": "execute_result"
    }
   ],
   "source": [
    "dfdf = topictable.drop_duplicates(['가장 비중이 높은 토픽','가장 높은 토픽의 비중',' 연관어'], keep='first')\n",
    "dfdf"
   ],
   "metadata": {
    "collapsed": false,
    "pycharm": {
     "name": "#%%\n"
    }
   }
  },
  {
   "cell_type": "code",
   "execution_count": 72,
   "outputs": [],
   "source": [
    "df1 = dfdf.drop('문서 번호', axis=1)\n",
    "df2 = df1.reset_index(drop=True)"
   ],
   "metadata": {
    "collapsed": false,
    "pycharm": {
     "name": "#%%\n"
    }
   }
  },
  {
   "cell_type": "code",
   "execution_count": 73,
   "outputs": [
    {
     "data": {
      "text/plain": "       가장 비중이 높은 토픽  가장 높은 토픽의 비중                                      연관어\n0                17        0.6659   상승, 전망, 세계, 가격, 예상, 수준, 조선, 기록, 최근, 운임\n1                25        0.4779   영상, 바다, 시간, 뉴스, 기사, 사람, 문화, 제주, 월일, 사진\n2                17        0.7370   상승, 전망, 세계, 가격, 예상, 수준, 조선, 기록, 최근, 운임\n3                25        0.2947   영상, 바다, 시간, 뉴스, 기사, 사람, 문화, 제주, 월일, 사진\n4                18        0.3279   산업, 지원, 분야, 기술, 사업, 기업, 개발, 혁신, 연구, 협력\n...             ...           ...                                      ...\n65468            18        0.2344   산업, 지원, 분야, 기술, 사업, 기업, 개발, 혁신, 연구, 협력\n65469            19        0.5237  기업, 현대, 그룹, 투자, 금융, 시장, 회장, 사업, 인수, 글로벌\n65470            19        0.5232  기업, 현대, 그룹, 투자, 금융, 시장, 회장, 사업, 인수, 글로벌\n65471            19        0.2912  기업, 현대, 그룹, 투자, 금융, 시장, 회장, 사업, 인수, 글로벌\n65472             7        0.4774  코로나, 지원, 경제, 수출, 금융, 산업, 기업, 정부, 전체, 확대\n\n[65473 rows x 3 columns]",
      "text/html": "<div>\n<style scoped>\n    .dataframe tbody tr th:only-of-type {\n        vertical-align: middle;\n    }\n\n    .dataframe tbody tr th {\n        vertical-align: top;\n    }\n\n    .dataframe thead th {\n        text-align: right;\n    }\n</style>\n<table border=\"1\" class=\"dataframe\">\n  <thead>\n    <tr style=\"text-align: right;\">\n      <th></th>\n      <th>가장 비중이 높은 토픽</th>\n      <th>가장 높은 토픽의 비중</th>\n      <th>연관어</th>\n    </tr>\n  </thead>\n  <tbody>\n    <tr>\n      <th>0</th>\n      <td>17</td>\n      <td>0.6659</td>\n      <td>상승, 전망, 세계, 가격, 예상, 수준, 조선, 기록, 최근, 운임</td>\n    </tr>\n    <tr>\n      <th>1</th>\n      <td>25</td>\n      <td>0.4779</td>\n      <td>영상, 바다, 시간, 뉴스, 기사, 사람, 문화, 제주, 월일, 사진</td>\n    </tr>\n    <tr>\n      <th>2</th>\n      <td>17</td>\n      <td>0.7370</td>\n      <td>상승, 전망, 세계, 가격, 예상, 수준, 조선, 기록, 최근, 운임</td>\n    </tr>\n    <tr>\n      <th>3</th>\n      <td>25</td>\n      <td>0.2947</td>\n      <td>영상, 바다, 시간, 뉴스, 기사, 사람, 문화, 제주, 월일, 사진</td>\n    </tr>\n    <tr>\n      <th>4</th>\n      <td>18</td>\n      <td>0.3279</td>\n      <td>산업, 지원, 분야, 기술, 사업, 기업, 개발, 혁신, 연구, 협력</td>\n    </tr>\n    <tr>\n      <th>...</th>\n      <td>...</td>\n      <td>...</td>\n      <td>...</td>\n    </tr>\n    <tr>\n      <th>65468</th>\n      <td>18</td>\n      <td>0.2344</td>\n      <td>산업, 지원, 분야, 기술, 사업, 기업, 개발, 혁신, 연구, 협력</td>\n    </tr>\n    <tr>\n      <th>65469</th>\n      <td>19</td>\n      <td>0.5237</td>\n      <td>기업, 현대, 그룹, 투자, 금융, 시장, 회장, 사업, 인수, 글로벌</td>\n    </tr>\n    <tr>\n      <th>65470</th>\n      <td>19</td>\n      <td>0.5232</td>\n      <td>기업, 현대, 그룹, 투자, 금융, 시장, 회장, 사업, 인수, 글로벌</td>\n    </tr>\n    <tr>\n      <th>65471</th>\n      <td>19</td>\n      <td>0.2912</td>\n      <td>기업, 현대, 그룹, 투자, 금융, 시장, 회장, 사업, 인수, 글로벌</td>\n    </tr>\n    <tr>\n      <th>65472</th>\n      <td>7</td>\n      <td>0.4774</td>\n      <td>코로나, 지원, 경제, 수출, 금융, 산업, 기업, 정부, 전체, 확대</td>\n    </tr>\n  </tbody>\n</table>\n<p>65473 rows × 3 columns</p>\n</div>"
     },
     "execution_count": 73,
     "metadata": {},
     "output_type": "execute_result"
    }
   ],
   "source": [
    "df2"
   ],
   "metadata": {
    "collapsed": false,
    "pycharm": {
     "name": "#%%\n"
    }
   }
  },
  {
   "cell_type": "code",
   "execution_count": 75,
   "outputs": [],
   "source": [
    "df2.to_csv(\"./ldaresult.csv\", mode='w')"
   ],
   "metadata": {
    "collapsed": false,
    "pycharm": {
     "name": "#%%\n"
    }
   }
  },
  {
   "cell_type": "code",
   "execution_count": 69,
   "outputs": [
    {
     "data": {
      "text/plain": "       가장 비중이 높은 토픽  가장 높은 토픽의 비중                                          연관어\n0                17        0.6659       상승, 전망, 세계, 가격, 예상, 수준, 조선, 기록, 최근, 운임\n1                25        0.4779       영상, 바다, 시간, 뉴스, 기사, 사람, 문화, 제주, 월일, 사진\n4                18        0.3279       산업, 지원, 분야, 기술, 사업, 기업, 개발, 혁신, 연구, 협력\n19               19        0.3294      기업, 현대, 그룹, 투자, 금융, 시장, 회장, 사업, 인수, 글로벌\n27               22        0.5631       노조, 관련, 한국, 행위, 임금, 정부, 결정, 한진, 수사, 사건\n84               14        0.4641   기술, 시스템, 데이터, 안전, 개발, 정보, 서비스, 디지털, 활용, 선박\n88               24        0.2956      선박, 오염, LNG, 규제, 연료, 원전, 환경, 처리, 설비, 정부\n90               10        0.3400      분기, 영업, 이익, 증가, 실적, 대비, 지난해, 매출, 올해, 전년\n112              26        0.2552       중국, 미국, 일본, 한국, 국가, 세계, 나라, 홍콩, 유럽, 영국\n144               5        0.3896    제품, 사용, 식품, 플라스틱, 소재, 생산, 용기, 판매, 브랜드, 택배\n166              11        0.5243       연구, 사고, 국립, 충남, 조사, 관리, 구조, 발생, 결과, 발견\n254               4        0.4023     에너지, 탄소, 기후, 환경, 변화, 수소, 친환경, 배출, 중립, 재생\n258               6        0.2708      정보, 기사, 회사, 댓글, 서비스, 경우, 이용, 회원, 개인, 광고\n259              29        0.2897       계약, 기관, 입찰, 수요, 공고, 발주, 공사, 방법, 마감, 용역\n265               8        0.4233       사업, 관광, 지역, 계획, 추진, 조성, 시설, 도시, 개발, 전남\n274               7        0.3554      코로나, 지원, 경제, 수출, 금융, 산업, 기업, 정부, 전체, 확대\n392              21        0.7353      후보, 정책, 경제, 의원, 국회, 민주당, 지역, 국민, 사회, 정부\n415               0        0.2394  바이오, 키트, 종목, 삼성전자, LG, 모바일, 지수, 코스피, 증시, SK\n756              28        0.3315      장관, 대통령, 회의, 한국, 협력, 정부, 정상, 국제, 경제, 서울\n1295             12        0.3502   해운, 선박, 물류, HMM, 선사, 컨테이너, 해운업, 화물, 운항, 운송\n1362              2        0.2936      북한, 남북, 미디어, 평화, 통일, 화폐, 내성, 작물, 수문, 평양\n1678              1        0.3727     수산, 창업, 수산물, 울산, 뉴시스, 대회, 양식, 청년, 수상, 대상\n1906             15        0.3127    선생, 신탁, 원리, 얼음, 유수, 일경, 신원, 학문, 복원사업, 연구사\n2001              3        0.2886      활동, 포스코, 상품, 유입, 수지, 사회, GS, 유통, 유출, 동아\n9290             13        0.3292      보고서, 발간, 선물, 구진, 분석, 연구, 구리, 작성, 심층, 반입\n12676            20        0.2877      경남, 후원, 주년, 창원, 로봇, 창원시, 진해, 응원, 전선, 원원\n43174            27        0.2165   부산, 콘텐츠, 문화, 해운대, 뉴스, 디지털, 수정, 규칙, 관광, 갤러리",
      "text/html": "<div>\n<style scoped>\n    .dataframe tbody tr th:only-of-type {\n        vertical-align: middle;\n    }\n\n    .dataframe tbody tr th {\n        vertical-align: top;\n    }\n\n    .dataframe thead th {\n        text-align: right;\n    }\n</style>\n<table border=\"1\" class=\"dataframe\">\n  <thead>\n    <tr style=\"text-align: right;\">\n      <th></th>\n      <th>가장 비중이 높은 토픽</th>\n      <th>가장 높은 토픽의 비중</th>\n      <th>연관어</th>\n    </tr>\n  </thead>\n  <tbody>\n    <tr>\n      <th>0</th>\n      <td>17</td>\n      <td>0.6659</td>\n      <td>상승, 전망, 세계, 가격, 예상, 수준, 조선, 기록, 최근, 운임</td>\n    </tr>\n    <tr>\n      <th>1</th>\n      <td>25</td>\n      <td>0.4779</td>\n      <td>영상, 바다, 시간, 뉴스, 기사, 사람, 문화, 제주, 월일, 사진</td>\n    </tr>\n    <tr>\n      <th>4</th>\n      <td>18</td>\n      <td>0.3279</td>\n      <td>산업, 지원, 분야, 기술, 사업, 기업, 개발, 혁신, 연구, 협력</td>\n    </tr>\n    <tr>\n      <th>19</th>\n      <td>19</td>\n      <td>0.3294</td>\n      <td>기업, 현대, 그룹, 투자, 금융, 시장, 회장, 사업, 인수, 글로벌</td>\n    </tr>\n    <tr>\n      <th>27</th>\n      <td>22</td>\n      <td>0.5631</td>\n      <td>노조, 관련, 한국, 행위, 임금, 정부, 결정, 한진, 수사, 사건</td>\n    </tr>\n    <tr>\n      <th>84</th>\n      <td>14</td>\n      <td>0.4641</td>\n      <td>기술, 시스템, 데이터, 안전, 개발, 정보, 서비스, 디지털, 활용, 선박</td>\n    </tr>\n    <tr>\n      <th>88</th>\n      <td>24</td>\n      <td>0.2956</td>\n      <td>선박, 오염, LNG, 규제, 연료, 원전, 환경, 처리, 설비, 정부</td>\n    </tr>\n    <tr>\n      <th>90</th>\n      <td>10</td>\n      <td>0.3400</td>\n      <td>분기, 영업, 이익, 증가, 실적, 대비, 지난해, 매출, 올해, 전년</td>\n    </tr>\n    <tr>\n      <th>112</th>\n      <td>26</td>\n      <td>0.2552</td>\n      <td>중국, 미국, 일본, 한국, 국가, 세계, 나라, 홍콩, 유럽, 영국</td>\n    </tr>\n    <tr>\n      <th>144</th>\n      <td>5</td>\n      <td>0.3896</td>\n      <td>제품, 사용, 식품, 플라스틱, 소재, 생산, 용기, 판매, 브랜드, 택배</td>\n    </tr>\n    <tr>\n      <th>166</th>\n      <td>11</td>\n      <td>0.5243</td>\n      <td>연구, 사고, 국립, 충남, 조사, 관리, 구조, 발생, 결과, 발견</td>\n    </tr>\n    <tr>\n      <th>254</th>\n      <td>4</td>\n      <td>0.4023</td>\n      <td>에너지, 탄소, 기후, 환경, 변화, 수소, 친환경, 배출, 중립, 재생</td>\n    </tr>\n    <tr>\n      <th>258</th>\n      <td>6</td>\n      <td>0.2708</td>\n      <td>정보, 기사, 회사, 댓글, 서비스, 경우, 이용, 회원, 개인, 광고</td>\n    </tr>\n    <tr>\n      <th>259</th>\n      <td>29</td>\n      <td>0.2897</td>\n      <td>계약, 기관, 입찰, 수요, 공고, 발주, 공사, 방법, 마감, 용역</td>\n    </tr>\n    <tr>\n      <th>265</th>\n      <td>8</td>\n      <td>0.4233</td>\n      <td>사업, 관광, 지역, 계획, 추진, 조성, 시설, 도시, 개발, 전남</td>\n    </tr>\n    <tr>\n      <th>274</th>\n      <td>7</td>\n      <td>0.3554</td>\n      <td>코로나, 지원, 경제, 수출, 금융, 산업, 기업, 정부, 전체, 확대</td>\n    </tr>\n    <tr>\n      <th>392</th>\n      <td>21</td>\n      <td>0.7353</td>\n      <td>후보, 정책, 경제, 의원, 국회, 민주당, 지역, 국민, 사회, 정부</td>\n    </tr>\n    <tr>\n      <th>415</th>\n      <td>0</td>\n      <td>0.2394</td>\n      <td>바이오, 키트, 종목, 삼성전자, LG, 모바일, 지수, 코스피, 증시, SK</td>\n    </tr>\n    <tr>\n      <th>756</th>\n      <td>28</td>\n      <td>0.3315</td>\n      <td>장관, 대통령, 회의, 한국, 협력, 정부, 정상, 국제, 경제, 서울</td>\n    </tr>\n    <tr>\n      <th>1295</th>\n      <td>12</td>\n      <td>0.3502</td>\n      <td>해운, 선박, 물류, HMM, 선사, 컨테이너, 해운업, 화물, 운항, 운송</td>\n    </tr>\n    <tr>\n      <th>1362</th>\n      <td>2</td>\n      <td>0.2936</td>\n      <td>북한, 남북, 미디어, 평화, 통일, 화폐, 내성, 작물, 수문, 평양</td>\n    </tr>\n    <tr>\n      <th>1678</th>\n      <td>1</td>\n      <td>0.3727</td>\n      <td>수산, 창업, 수산물, 울산, 뉴시스, 대회, 양식, 청년, 수상, 대상</td>\n    </tr>\n    <tr>\n      <th>1906</th>\n      <td>15</td>\n      <td>0.3127</td>\n      <td>선생, 신탁, 원리, 얼음, 유수, 일경, 신원, 학문, 복원사업, 연구사</td>\n    </tr>\n    <tr>\n      <th>2001</th>\n      <td>3</td>\n      <td>0.2886</td>\n      <td>활동, 포스코, 상품, 유입, 수지, 사회, GS, 유통, 유출, 동아</td>\n    </tr>\n    <tr>\n      <th>9290</th>\n      <td>13</td>\n      <td>0.3292</td>\n      <td>보고서, 발간, 선물, 구진, 분석, 연구, 구리, 작성, 심층, 반입</td>\n    </tr>\n    <tr>\n      <th>12676</th>\n      <td>20</td>\n      <td>0.2877</td>\n      <td>경남, 후원, 주년, 창원, 로봇, 창원시, 진해, 응원, 전선, 원원</td>\n    </tr>\n    <tr>\n      <th>43174</th>\n      <td>27</td>\n      <td>0.2165</td>\n      <td>부산, 콘텐츠, 문화, 해운대, 뉴스, 디지털, 수정, 규칙, 관광, 갤러리</td>\n    </tr>\n  </tbody>\n</table>\n</div>"
     },
     "execution_count": 69,
     "metadata": {},
     "output_type": "execute_result"
    }
   ],
   "source": [
    "dld= df1.drop_duplicates(['가장 비중이 높은 토픽',' 연관어'], keep='first')\n",
    "dld"
   ],
   "metadata": {
    "collapsed": false,
    "pycharm": {
     "name": "#%%\n"
    }
   }
  },
  {
   "cell_type": "code",
   "execution_count": null,
   "outputs": [],
   "source": [],
   "metadata": {
    "collapsed": false,
    "pycharm": {
     "name": "#%%\n"
    }
   }
  }
 ],
 "metadata": {
  "kernelspec": {
   "display_name": "Python 3",
   "language": "python",
   "name": "python3"
  },
  "language_info": {
   "codemirror_mode": {
    "name": "ipython",
    "version": 2
   },
   "file_extension": ".py",
   "mimetype": "text/x-python",
   "name": "python",
   "nbconvert_exporter": "python",
   "pygments_lexer": "ipython2",
   "version": "2.7.6"
  }
 },
 "nbformat": 4,
 "nbformat_minor": 0
}